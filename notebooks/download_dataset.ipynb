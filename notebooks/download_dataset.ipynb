{
 "cells": [
  {
   "cell_type": "markdown",
   "metadata": {},
   "source": [
    "# Use this to download the dataset from MS Marco"
   ]
  },
  {
   "cell_type": "code",
   "execution_count": 3,
   "metadata": {},
   "outputs": [
    {
     "name": "stderr",
     "output_type": "stream",
     "text": [
      "/home/bwilliams/anaconda3/envs/two_tower_env/lib/python3.10/site-packages/tqdm/auto.py:21: TqdmWarning: IProgress not found. Please update jupyter and ipywidgets. See https://ipywidgets.readthedocs.io/en/stable/user_install.html\n",
      "  from .autonotebook import tqdm as notebook_tqdm\n",
      "Generating validation split: 100%|██████████| 101093/101093 [00:01<00:00, 75933.06 examples/s]\n",
      "Generating train split: 100%|██████████| 808731/808731 [00:09<00:00, 85466.56 examples/s] \n",
      "Generating test split: 100%|██████████| 101092/101092 [00:00<00:00, 112327.56 examples/s]\n"
     ]
    }
   ],
   "source": [
    "from datasets import load_dataset\n",
    "\n",
    "# Load the dataset from Hugging Face\n",
    "dataset = load_dataset(\"ms_marco\", \"v2.1\")\n",
    "\n",
    "# Convert one of the splits (e.g., train) to a pandas DataFrame\n",
    "df_train = dataset[\"train\"].to_pandas()\n",
    "# Save it as a Parquet file\n",
    "df_train.to_parquet(\"../data/ms_marco_train.parquet\", engine=\"pyarrow\")\n"
   ]
  },
  {
   "cell_type": "code",
   "execution_count": 4,
   "metadata": {},
   "outputs": [],
   "source": [
    "# Convert one of the splits (e.g., test) to a pandas DataFrame and download to parquet\n",
    "df_test = dataset[\"test\"].to_pandas()\n",
    "df_test.to_parquet(\"../data/ms_marco_test.parquet\", engine=\"pyarrow\")"
   ]
  },
  {
   "cell_type": "code",
   "execution_count": 5,
   "metadata": {},
   "outputs": [],
   "source": [
    "# Convert one of the splits (e.g., validation) to a pandas DataFrame and download to parquet\n",
    "df_validation = dataset[\"validation\"].to_pandas()\n",
    "df_validation.to_parquet(\"../data/ms_marco_validation.parquet\", engine=\"pyarrow\")"
   ]
  },
  {
   "cell_type": "code",
   "execution_count": null,
   "metadata": {},
   "outputs": [],
   "source": []
  }
 ],
 "metadata": {
  "kernelspec": {
   "display_name": "two_tower_env",
   "language": "python",
   "name": "python3"
  },
  "language_info": {
   "codemirror_mode": {
    "name": "ipython",
    "version": 3
   },
   "file_extension": ".py",
   "mimetype": "text/x-python",
   "name": "python",
   "nbconvert_exporter": "python",
   "pygments_lexer": "ipython3",
   "version": "3.10.14"
  }
 },
 "nbformat": 4,
 "nbformat_minor": 2
}
